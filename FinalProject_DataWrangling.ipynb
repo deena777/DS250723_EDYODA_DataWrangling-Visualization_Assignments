{
  "cells": [
    {
      "attachments": {},
      "cell_type": "markdown",
      "metadata": {
        "id": "qhpDYByo4r02"
      },
      "source": [
        "#Problem for Covid - 19 Data Analysis Project using Python"
      ]
    },
    {
      "cell_type": "code",
      "execution_count": 1,
      "metadata": {
        "id": "_4QTP5mD5Wgi"
      },
      "outputs": [],
      "source": [
        "import pandas as pd\n",
        "import seaborn as sns\n",
        "import matplotlib.pyplot as plt"
      ]
    },
    {
      "attachments": {},
      "cell_type": "markdown",
      "metadata": {
        "id": "5AYDNlPm5HwG"
      },
      "source": [
        "Dataset link :  \n",
        "Url = https://raw.githubusercontent.com/SR1608/Datasets/main/coviddata.csv"
      ]
    },
    {
      "attachments": {},
      "cell_type": "markdown",
      "metadata": {
        "id": "6jDrXSHp9SZF"
      },
      "source": [
        "1. Import the dataset using Pandas from above mentioned url."
      ]
    },
    {
      "cell_type": "code",
      "execution_count": 3,
      "metadata": {
        "id": "_rPTOBX34ach"
      },
      "outputs": [],
      "source": [
        "url = \"https://raw.githubusercontent.com/SR1608/Datasets/main/covid-data.csv\"\n",
        "df = pd.read_csv(url)"
      ]
    },
    {
      "attachments": {},
      "cell_type": "markdown",
      "metadata": {
        "id": "bd176_bz9owY"
      },
      "source": [
        "2. High Level Data Understanding"
      ]
    },
    {
      "cell_type": "code",
      "execution_count": 11,
      "metadata": {
        "colab": {
          "base_uri": "https://localhost:8080/"
        },
        "id": "wX4w6Cax8auG",
        "outputId": "d47caeef-564a-42fd-f9a5-65af56934775"
      },
      "outputs": [
        {
          "name": "stdout",
          "output_type": "stream",
          "text": [
            "Number of rows and columns: (57394, 49)\n"
          ]
        }
      ],
      "source": [
        "# a. Find no. of rows & columns in the dataset\n",
        "print(\"Number of rows and columns:\", df.shape)"
      ]
    },
    {
      "cell_type": "code",
      "execution_count": 12,
      "metadata": {
        "colab": {
          "base_uri": "https://localhost:8080/"
        },
        "id": "nB7pXcM98eue",
        "outputId": "0d50df54-0dea-4b32-c6b1-6478291a9973"
      },
      "outputs": [
        {
          "name": "stdout",
          "output_type": "stream",
          "text": [
            "\n",
            "Data types of columns:\n",
            " iso_code                               object\n",
            "continent                              object\n",
            "location                               object\n",
            "date                                   object\n",
            "total_cases                           float64\n",
            "new_cases                             float64\n",
            "new_cases_smoothed                    float64\n",
            "total_deaths                          float64\n",
            "new_deaths                            float64\n",
            "new_deaths_smoothed                   float64\n",
            "total_cases_per_million               float64\n",
            "new_cases_per_million                 float64\n",
            "new_cases_smoothed_per_million        float64\n",
            "total_deaths_per_million              float64\n",
            "new_deaths_per_million                float64\n",
            "new_deaths_smoothed_per_million       float64\n",
            "reproduction_rate                     float64\n",
            "icu_patients                          float64\n",
            "icu_patients_per_million              float64\n",
            "hosp_patients                         float64\n",
            "hosp_patients_per_million             float64\n",
            "weekly_icu_admissions                 float64\n",
            "weekly_icu_admissions_per_million     float64\n",
            "weekly_hosp_admissions                float64\n",
            "weekly_hosp_admissions_per_million    float64\n",
            "total_tests                           float64\n",
            "new_tests                             float64\n",
            "total_tests_per_thousand              float64\n",
            "new_tests_per_thousand                float64\n",
            "new_tests_smoothed                    float64\n",
            "new_tests_smoothed_per_thousand       float64\n",
            "tests_per_case                        float64\n",
            "positive_rate                         float64\n",
            "stringency_index                      float64\n",
            "population                            float64\n",
            "population_density                    float64\n",
            "median_age                            float64\n",
            "aged_65_older                         float64\n",
            "aged_70_older                         float64\n",
            "gdp_per_capita                        float64\n",
            "extreme_poverty                       float64\n",
            "cardiovasc_death_rate                 float64\n",
            "diabetes_prevalence                   float64\n",
            "female_smokers                        float64\n",
            "male_smokers                          float64\n",
            "handwashing_facilities                float64\n",
            "hospital_beds_per_thousand            float64\n",
            "life_expectancy                       float64\n",
            "human_development_index               float64\n",
            "dtype: object\n"
          ]
        }
      ],
      "source": [
        "# b. Data types of columns\n",
        "print(\"\\nData types of columns:\\n\", df.dtypes)"
      ]
    },
    {
      "cell_type": "code",
      "execution_count": 13,
      "metadata": {
        "colab": {
          "base_uri": "https://localhost:8080/"
        },
        "id": "-ve8OpAW8gyV",
        "outputId": "926032b8-b2d5-4f2c-b4c6-3b6216991540"
      },
      "outputs": [
        {
          "name": "stdout",
          "output_type": "stream",
          "text": [
            "<class 'pandas.core.frame.DataFrame'>\n",
            "RangeIndex: 57394 entries, 0 to 57393\n",
            "Data columns (total 49 columns):\n",
            " #   Column                              Non-Null Count  Dtype  \n",
            "---  ------                              --------------  -----  \n",
            " 0   iso_code                            57071 non-null  object \n",
            " 1   continent                           56748 non-null  object \n",
            " 2   location                            57394 non-null  object \n",
            " 3   date                                57394 non-null  object \n",
            " 4   total_cases                         53758 non-null  float64\n",
            " 5   new_cases                           56465 non-null  float64\n",
            " 6   new_cases_smoothed                  55652 non-null  float64\n",
            " 7   total_deaths                        44368 non-null  float64\n",
            " 8   new_deaths                          56465 non-null  float64\n",
            " 9   new_deaths_smoothed                 55652 non-null  float64\n",
            " 10  total_cases_per_million             53471 non-null  float64\n",
            " 11  new_cases_per_million               56401 non-null  float64\n",
            " 12  new_cases_smoothed_per_million      55587 non-null  float64\n",
            " 13  total_deaths_per_million            44096 non-null  float64\n",
            " 14  new_deaths_per_million              56401 non-null  float64\n",
            " 15  new_deaths_smoothed_per_million     55587 non-null  float64\n",
            " 16  reproduction_rate                   37696 non-null  float64\n",
            " 17  icu_patients                        4490 non-null   float64\n",
            " 18  icu_patients_per_million            4490 non-null   float64\n",
            " 19  hosp_patients                       5005 non-null   float64\n",
            " 20  hosp_patients_per_million           5005 non-null   float64\n",
            " 21  weekly_icu_admissions               357 non-null    float64\n",
            " 22  weekly_icu_admissions_per_million   357 non-null    float64\n",
            " 23  weekly_hosp_admissions              645 non-null    float64\n",
            " 24  weekly_hosp_admissions_per_million  645 non-null    float64\n",
            " 25  total_tests                         22017 non-null  float64\n",
            " 26  new_tests                           21787 non-null  float64\n",
            " 27  total_tests_per_thousand            22017 non-null  float64\n",
            " 28  new_tests_per_thousand              21787 non-null  float64\n",
            " 29  new_tests_smoothed                  24612 non-null  float64\n",
            " 30  new_tests_smoothed_per_thousand     24612 non-null  float64\n",
            " 31  tests_per_case                      22802 non-null  float64\n",
            " 32  positive_rate                       23211 non-null  float64\n",
            " 33  stringency_index                    47847 non-null  float64\n",
            " 34  population                          57071 non-null  float64\n",
            " 35  population_density                  54371 non-null  float64\n",
            " 36  median_age                          51034 non-null  float64\n",
            " 37  aged_65_older                       50265 non-null  float64\n",
            " 38  aged_70_older                       50768 non-null  float64\n",
            " 39  gdp_per_capita                      50367 non-null  float64\n",
            " 40  extreme_poverty                     33571 non-null  float64\n",
            " 41  cardiovasc_death_rate               51013 non-null  float64\n",
            " 42  diabetes_prevalence                 52881 non-null  float64\n",
            " 43  female_smokers                      39669 non-null  float64\n",
            " 44  male_smokers                        39156 non-null  float64\n",
            " 45  handwashing_facilities              24176 non-null  float64\n",
            " 46  hospital_beds_per_thousand          45936 non-null  float64\n",
            " 47  life_expectancy                     56336 non-null  float64\n",
            " 48  human_development_index             49247 non-null  float64\n",
            "dtypes: float64(45), object(4)\n",
            "memory usage: 21.5+ MB\n",
            "\n",
            "Dataframe Info:\n",
            " None\n",
            "\n",
            "Dataframe Describe:\n",
            "         total_cases      new_cases  new_cases_smoothed  total_deaths  \\\n",
            "count  5.375800e+04   56465.000000        55652.000000  4.436800e+04   \n",
            "mean   1.677974e+05    1953.576941         1920.431953  6.858639e+03   \n",
            "std    1.693038e+06   18269.650340        17777.391785  5.578081e+04   \n",
            "min    1.000000e+00   -8261.000000         -552.000000  1.000000e+00   \n",
            "25%    1.800000e+02       0.000000            0.857000  1.300000e+01   \n",
            "50%    2.070000e+03      14.000000           19.429000  8.400000e+01   \n",
            "75%    2.235675e+04     235.000000          245.286000  7.270000e+02   \n",
            "max    5.515465e+07  646281.000000       584981.857000  1.328537e+06   \n",
            "\n",
            "         new_deaths  new_deaths_smoothed  total_cases_per_million  \\\n",
            "count  56465.000000         55652.000000             53471.000000   \n",
            "mean      47.054317            46.835439              3139.099982   \n",
            "std      390.853776           378.272794              6183.455260   \n",
            "min    -1918.000000          -232.143000                 0.001000   \n",
            "25%        0.000000             0.000000                90.033000   \n",
            "50%        0.000000             0.286000               593.663000   \n",
            "75%        4.000000             4.000000              3487.050000   \n",
            "max    10600.000000          9027.714000             76541.772000   \n",
            "\n",
            "       new_cases_per_million  new_cases_smoothed_per_million  \\\n",
            "count           56401.000000                    55587.000000   \n",
            "mean               39.344804                       38.403211   \n",
            "std               133.985155                      101.649441   \n",
            "min             -2212.545000                     -269.978000   \n",
            "25%                 0.000000                        0.260000   \n",
            "50%                 2.194000                        3.863000   \n",
            "75%                25.941000                       29.678500   \n",
            "max              8652.658000                     2472.188000   \n",
            "\n",
            "       total_deaths_per_million  ...  gdp_per_capita  extreme_poverty  \\\n",
            "count              44096.000000  ...    50367.000000     33571.000000   \n",
            "mean                  95.335293  ...    20620.172071        12.435453   \n",
            "std                  180.721699  ...    20310.999832        19.427924   \n",
            "min                    0.000000  ...      661.240000         0.100000   \n",
            "25%                    3.977750  ...     5321.444000         0.500000   \n",
            "50%                   20.383000  ...    13913.839000         2.000000   \n",
            "75%                   90.571250  ...    31400.840000        18.100000   \n",
            "max                 1248.014000  ...   116935.600000        77.600000   \n",
            "\n",
            "       cardiovasc_death_rate  diabetes_prevalence  female_smokers  \\\n",
            "count           51013.000000         52881.000000    39669.000000   \n",
            "mean              252.646642             8.070269       10.741569   \n",
            "std               117.522344             4.189605       10.470743   \n",
            "min                79.370000             0.990000        0.100000   \n",
            "25%               156.139000             5.310000        1.900000   \n",
            "50%               238.339000             7.110000        6.400000   \n",
            "75%               318.991000            10.390000       19.600000   \n",
            "max               724.417000            30.530000       44.000000   \n",
            "\n",
            "       male_smokers  handwashing_facilities  hospital_beds_per_thousand  \\\n",
            "count  39156.000000            24176.000000                45936.000000   \n",
            "mean      32.642686               52.089636                    3.089724   \n",
            "std       13.453566               31.645306                    2.513193   \n",
            "min        7.700000                1.188000                    0.100000   \n",
            "25%       21.400000               21.222000                    1.300000   \n",
            "50%       31.400000               52.232000                    2.500000   \n",
            "75%       40.900000               83.741000                    4.200000   \n",
            "max       78.100000               98.999000                   13.800000   \n",
            "\n",
            "       life_expectancy  human_development_index  \n",
            "count     56336.000000             49247.000000  \n",
            "mean         73.937780                 0.722223  \n",
            "std           7.397016                 0.153261  \n",
            "min          53.280000                 0.354000  \n",
            "25%          69.870000                 0.601000  \n",
            "50%          75.345000                 0.752000  \n",
            "75%          79.380000                 0.847000  \n",
            "max          86.750000                 0.953000  \n",
            "\n",
            "[8 rows x 45 columns]\n"
          ]
        }
      ],
      "source": [
        "# c. Info & describe of data in dataframe\n",
        "print(\"\\nDataframe Info:\\n\", df.info())\n",
        "print(\"\\nDataframe Describe:\\n\", df.describe())"
      ]
    },
    {
      "attachments": {},
      "cell_type": "markdown",
      "metadata": {
        "id": "E26xLee3-Vju"
      },
      "source": [
        "3. Low Level Data Understanding:"
      ]
    },
    {
      "cell_type": "code",
      "execution_count": 15,
      "metadata": {
        "colab": {
          "base_uri": "https://localhost:8080/"
        },
        "id": "EQNe0Iky86dd",
        "outputId": "06e7a82f-9d6a-43e4-d50a-78b3ca3df0b2"
      },
      "outputs": [
        {
          "name": "stdout",
          "output_type": "stream",
          "text": [
            "\n",
            "Count of unique values in 'location' column: 216\n"
          ]
        }
      ],
      "source": [
        "# a. Find count of unique values in location column\n",
        "print(\"\\nCount of unique values in 'location' column:\", df['location'].nunique())"
      ]
    },
    {
      "cell_type": "code",
      "execution_count": 16,
      "metadata": {
        "colab": {
          "base_uri": "https://localhost:8080/"
        },
        "id": "c65A4OSM8-pE",
        "outputId": "e07f598a-6cf9-4e11-a641-e46f36ebd364"
      },
      "outputs": [
        {
          "name": "stdout",
          "output_type": "stream",
          "text": [
            "\n",
            "Continent with maximum frequency: Europe\n"
          ]
        }
      ],
      "source": [
        "# b. Find which continent has maximum frequency using value counts\n",
        "max_continent = df['continent'].value_counts().idxmax()\n",
        "print(\"\\nContinent with maximum frequency:\", max_continent)"
      ]
    },
    {
      "cell_type": "code",
      "execution_count": 17,
      "metadata": {
        "colab": {
          "base_uri": "https://localhost:8080/"
        },
        "id": "91zNYMxu9BRM",
        "outputId": "cc3a21e7-167b-49bd-8186-64f566daffec"
      },
      "outputs": [
        {
          "name": "stdout",
          "output_type": "stream",
          "text": [
            "\n",
            "Maximum total cases: 55154651.0\n",
            "Mean total cases: 167797.3688753302\n"
          ]
        }
      ],
      "source": [
        "# c. Find maximum & mean value in 'total_cases'\n",
        "max_total_cases = df['total_cases'].max()\n",
        "mean_total_cases = df['total_cases'].mean()\n",
        "print(\"\\nMaximum total cases:\", max_total_cases)\n",
        "print(\"Mean total cases:\", mean_total_cases)"
      ]
    },
    {
      "cell_type": "code",
      "execution_count": 21,
      "metadata": {
        "colab": {
          "base_uri": "https://localhost:8080/"
        },
        "id": "SjnlapaP_KDq",
        "outputId": "1ce13202-883b-48b4-a00a-fdd93bcfc0f0"
      },
      "outputs": [
        {
          "name": "stdout",
          "output_type": "stream",
          "text": [
            "\n",
            "Quartile values for 'total_deaths':\n",
            " 0.25     13.0\n",
            "0.50     84.0\n",
            "0.75    727.0\n",
            "Name: total_deaths, dtype: float64\n"
          ]
        }
      ],
      "source": [
        "# d. Find 25%, 50%, and 75% quartile value in 'total_deaths'\n",
        "quartiles_total_deaths = df['total_deaths'].quantile([0.25, 0.50, 0.75])\n",
        "print(\"\\nQuartile values for 'total_deaths':\\n\", quartiles_total_deaths)"
      ]
    },
    {
      "cell_type": "code",
      "execution_count": 19,
      "metadata": {
        "colab": {
          "base_uri": "https://localhost:8080/"
        },
        "id": "8HfKj9lC9GqV",
        "outputId": "41b6fdf6-9511-49e6-8a75-883085ba2efb"
      },
      "outputs": [
        {
          "name": "stdout",
          "output_type": "stream",
          "text": [
            "\n",
            "Continent with maximum 'human_development_index': Europe\n"
          ]
        }
      ],
      "source": [
        "# e. Find which continent has maximum 'human_development_index'\n",
        "max_hdi_continent = df.loc[df['human_development_index'].idxmax()]['continent']\n",
        "print(\"\\nContinent with maximum 'human_development_index':\", max_hdi_continent)"
      ]
    },
    {
      "cell_type": "code",
      "execution_count": 20,
      "metadata": {
        "colab": {
          "base_uri": "https://localhost:8080/"
        },
        "id": "odjSn9Ip9Il1",
        "outputId": "326b93c9-c15d-4ff8-f885-4f85acf2faba"
      },
      "outputs": [
        {
          "name": "stdout",
          "output_type": "stream",
          "text": [
            "Continent with minimum 'gdp_per_capita': Africa\n"
          ]
        }
      ],
      "source": [
        "# f. Find which continent has minimum 'gdp_per_capita'\n",
        "min_gdp_continent = df.loc[df['gdp_per_capita'].idxmin()]['continent']\n",
        "print(\"Continent with minimum 'gdp_per_capita':\", min_gdp_continent)"
      ]
    },
    {
      "attachments": {},
      "cell_type": "markdown",
      "metadata": {
        "id": "rGK2Is-1-2we"
      },
      "source": [
        "4. Filter the dataframe with only this columns ['continent', 'location', 'date', 'total_cases', 'total_deaths', 'gdp_per_capita', 'human_development_index'] and update the data frame."
      ]
    },
    {
      "cell_type": "code",
      "execution_count": 22,
      "metadata": {
        "id": "xef0o8n96sP1"
      },
      "outputs": [],
      "source": [
        "selected_columns = ['continent', 'location', 'date', 'total_cases', 'total_deaths', 'gdp_per_capita', 'human_development_index']\n",
        "df_filtered = df[selected_columns]"
      ]
    },
    {
      "attachments": {},
      "cell_type": "markdown",
      "metadata": {
        "id": "J9rVH8IFATYg"
      },
      "source": [
        "5. Data Cleaning"
      ]
    },
    {
      "cell_type": "code",
      "execution_count": 27,
      "metadata": {
        "colab": {
          "base_uri": "https://localhost:8080/"
        },
        "id": "J8AkeOsl6usk",
        "outputId": "d985ac8c-35b5-447f-9c8d-743a790b375b"
      },
      "outputs": [
        {
          "name": "stdout",
          "output_type": "stream",
          "text": [
            "\n",
            "Missing values in columns:\n",
            " continent                  0\n",
            "location                   0\n",
            "date                       0\n",
            "total_cases                0\n",
            "total_deaths               0\n",
            "gdp_per_capita             0\n",
            "human_development_index    0\n",
            "month                      0\n",
            "dtype: int64\n"
          ]
        }
      ],
      "source": [
        "# a. Remove duplicates\n",
        "df_filtered = df_filtered.drop_duplicates()\n",
        "\n",
        "# b. Find missing values\n",
        "missing_values = df_filtered.isnull().sum()\n",
        "print(\"\\nMissing values in columns:\\n\", missing_values)\n",
        "\n",
        "# c. Remove observations with missing continent values\n",
        "df_filtered = df_filtered.dropna(subset=['continent'])\n",
        "\n",
        "# d. Fill missing values with 0\n",
        "df_filtered = df_filtered.fillna(0)"
      ]
    },
    {
      "attachments": {},
      "cell_type": "markdown",
      "metadata": {
        "id": "2i-P2B-oArul"
      },
      "source": [
        "6. Date time format"
      ]
    },
    {
      "cell_type": "code",
      "execution_count": 26,
      "metadata": {
        "id": "f5XSV7WU6xqN"
      },
      "outputs": [],
      "source": [
        "# a. Convert date column to datetime format\n",
        "df_filtered['date'] = pd.to_datetime(df_filtered['date'])\n",
        "\n",
        "# b. Create new column 'month'\n",
        "df_filtered['month'] = df_filtered['date'].dt.month"
      ]
    },
    {
      "attachments": {},
      "cell_type": "markdown",
      "metadata": {
        "id": "LJU3zzYFA9hV"
      },
      "source": [
        "7. Data Aggregation"
      ]
    },
    {
      "cell_type": "code",
      "execution_count": 29,
      "metadata": {
        "colab": {
          "base_uri": "https://localhost:8080/"
        },
        "id": "aaguHQFSBzN1",
        "outputId": "1c92b4c2-e73b-472d-b2d2-130a52b1f04e"
      },
      "outputs": [
        {
          "name": "stdout",
          "output_type": "stream",
          "text": [
            "\n",
            "Dataframe after aggregation:\n",
            "        continent iso_code                      location      date  \\\n",
            "0         Africa      ZWE                      Zimbabwe  31/12/19   \n",
            "1           Asia      YEM                         Yemen  31/12/19   \n",
            "2         Europe      VAT                       Vatican  31/12/19   \n",
            "3  North America      VIR  United States Virgin Islands  31/12/19   \n",
            "4        Oceania      WLF             Wallis and Futuna  31/12/19   \n",
            "5  South America      VEN                     Venezuela  31/12/19   \n",
            "\n",
            "   total_cases  new_cases  new_cases_smoothed  total_deaths  new_deaths  \\\n",
            "0     752269.0    13944.0           12583.714       20314.0       572.0   \n",
            "1    8874290.0    97894.0           93198.571      130519.0      2003.0   \n",
            "2    1991233.0    86852.0           54868.571       52147.0      2004.0   \n",
            "3   11205486.0   184813.0          156419.143      247220.0      4928.0   \n",
            "4      27750.0     1384.0             551.714         907.0        59.0   \n",
            "5    5876464.0    69074.0           46393.000      166014.0      3935.0   \n",
            "\n",
            "   new_deaths_smoothed  ...  gdp_per_capita  extreme_poverty  \\\n",
            "0              297.429  ...       26382.287             77.6   \n",
            "1             1168.000  ...      116935.600             30.3   \n",
            "2             1101.000  ...       94277.965              5.7   \n",
            "3             2715.143  ...       54225.446             23.5   \n",
            "4               22.000  ...       44648.710             25.1   \n",
            "5             1096.714  ...       22767.037              7.1   \n",
            "\n",
            "   cardiovasc_death_rate  diabetes_prevalence  female_smokers  male_smokers  \\\n",
            "0                525.432                22.02             9.7          65.8   \n",
            "1                724.417                17.72            26.9          78.1   \n",
            "2                539.849                10.08            44.0          58.3   \n",
            "3                430.548                17.11            19.1          53.3   \n",
            "4                561.494                30.53            23.5          48.8   \n",
            "5                373.159                12.54            34.2          42.9   \n",
            "\n",
            "   handwashing_facilities  hospital_beds_per_thousand  life_expectancy  \\\n",
            "0                  89.827                        6.30            76.88   \n",
            "1                  98.999                       13.05            84.86   \n",
            "2                  97.719                       13.80            86.75   \n",
            "3                  90.650                        5.80            83.92   \n",
            "4                  82.502                        3.84            83.44   \n",
            "5                  80.635                        5.00            81.44   \n",
            "\n",
            "   human_development_index  \n",
            "0                    0.797  \n",
            "1                    0.933  \n",
            "2                    0.953  \n",
            "3                    0.926  \n",
            "4                    0.939  \n",
            "5                    0.843  \n",
            "\n",
            "[6 rows x 49 columns]\n"
          ]
        }
      ],
      "source": [
        "# a. Find max value in all columns using groupby function on 'continent' column\n",
        "df_groupby = df.groupby('continent').max().reset_index()\n",
        "\n",
        "# b. Display the resulting dataframe 'df_groupby'\n",
        "print(\"\\nDataframe after aggregation:\\n\", df_groupby)\n"
      ]
    },
    {
      "attachments": {},
      "cell_type": "markdown",
      "metadata": {
        "id": "9pNGn5K2ClEZ"
      },
      "source": [
        "8. Feature Engineering"
      ]
    },
    {
      "cell_type": "code",
      "execution_count": 30,
      "metadata": {
        "id": "UhA99hei61t7"
      },
      "outputs": [],
      "source": [
        "# a. Create a new feature 'total_deaths_to_total_cases' by ratio of 'total_deaths' column to 'total_cases'\n",
        "df_groupby['total_deaths_to_total_cases'] = df_groupby['total_deaths'] / df_groupby['total_cases']"
      ]
    },
    {
      "attachments": {},
      "cell_type": "markdown",
      "metadata": {
        "id": "zK9EvC04Dm-i"
      },
      "source": [
        "9. Data Visualization"
      ]
    },
    {
      "cell_type": "code",
      "execution_count": null,
      "metadata": {
        "id": "H2lZa5F663dq"
      },
      "outputs": [],
      "source": [
        "# a. Perform Univariate analysis on 'gdp_per_capita' column by plotting histogram using seaborn dist plot.\n",
        "sns.distplot(df_groupby['gdp_per_capita'], kde=False)\n",
        "plt.title('Histogram of GDP per Capita')\n",
        "plt.show()"
      ]
    },
    {
      "cell_type": "code",
      "execution_count": 32,
      "metadata": {
        "colab": {
          "base_uri": "https://localhost:8080/",
          "height": 472
        },
        "id": "BXA2ZKfUDhI-",
        "outputId": "57e743f2-986a-4364-8e29-d3109c197e67"
      },
      "outputs": [
        {
          "data": {
            "image/png": "[encoded data removed]",
            "text/plain": [
              "<Figure size 640x480 with 1 Axes>"
            ]
          },
          "metadata": {},
          "output_type": "display_data"
        }
      ],
      "source": [
        "# b. Scatter plot of 'total_cases' & 'gdp_per_capita'\n",
        "sns.scatterplot(x='gdp_per_capita', y='total_cases', data=df_groupby)\n",
        "plt.title('Scatter Plot of Total Cases vs GDP per Capita')\n",
        "plt.show()"
      ]
    },
    {
      "cell_type": "code",
      "execution_count": null,
      "metadata": {
        "colab": {
          "base_uri": "https://localhost:8080/",
          "height": 763
        },
        "id": "E4UPajEyDtVi",
        "outputId": "f74ba278-4e7b-4af9-9c0e-18d5c56dfb5c"
      },
      "outputs": [],
      "source": [
        "# c. Pairplot on df_groupby dataset\n",
        "sns.pairplot(df_groupby)\n",
        "plt.suptitle('Pairplot of df_groupby Dataset')\n",
        "plt.show()"
      ]
    },
    {
      "cell_type": "code",
      "execution_count": null,
      "metadata": {
        "id": "EMIWyqHyDurC"
      },
      "outputs": [],
      "source": [
        "# d. Bar plot of 'continent' column with 'total_cases'\n",
        "sns.catplot(x='continent', y='total_cases', kind='bar', data=df_groupby)\n",
        "plt.title('Bar Plot of Total Cases by Continent')\n",
        "plt.show()"
      ]
    },
    {
      "attachments": {},
      "cell_type": "markdown",
      "metadata": {
        "id": "xfLqNyV4GjaL"
      },
      "source": [
        "10. Save the df_groupby dataframe in your local drive using pandas.to_csv         function ."
      ]
    },
    {
      "cell_type": "code",
      "execution_count": null,
      "metadata": {
        "id": "DHvRFkSv66Cb"
      },
      "outputs": [],
      "source": [
        "df_groupby.to_csv('df_groupby.csv', index=False)"
      ]
    }
  ],
  "metadata": {
    "colab": {
      "provenance": []
    },
    "kernelspec": {
      "display_name": "Python 3",
      "name": "python3"
    },
    "language_info": {
      "name": "python"
    }
  },
  "nbformat": 4,
  "nbformat_minor": 0
}
