{
  "cells": [
    {
      "attachments": {},
      "cell_type": "markdown",
      "metadata": {
        "id": "qhpDYByo4r02"
      },
      "source": [
        "#Problem for Covid - 19 Data Analysis Project using Python"
      ]
    },
    {
      "cell_type": "code",
      "execution_count": 1,
      "metadata": {
        "id": "_4QTP5mD5Wgi"
      },
      "outputs": [],
      "source": [
        "import pandas as pd\n",
        "import seaborn as sns\n",
        "import matplotlib.pyplot as plt"
      ]
    },
    {
      "attachments": {},
      "cell_type": "markdown",
      "metadata": {
        "id": "5AYDNlPm5HwG"
      },
      "source": [
        "Dataset link :  \n",
        "Url = https://raw.githubusercontent.com/SR1608/Datasets/main/coviddata.csv"
      ]
    },
    {
      "attachments": {},
      "cell_type": "markdown",
      "metadata": {
        "id": "6jDrXSHp9SZF"
      },
      "source": [
        "1. Import the dataset using Pandas from above mentioned url."
      ]
    },
    {
      "cell_type": "code",
      "execution_count": 3,
      "metadata": {
        "id": "_rPTOBX34ach"
      },
      "outputs": [],
      "source": [
        "url = \"https://raw.githubusercontent.com/SR1608/Datasets/main/covid-data.csv\"\n",
        "df = pd.read_csv(url)"
      ]
    },
    {
      "attachments": {},
      "cell_type": "markdown",
      "metadata": {
        "id": "bd176_bz9owY"
      },
      "source": [
        "2. High Level Data Understanding"
      ]
    },
    {
      "cell_type": "code",
      "execution_count": null,
      "metadata": {
        "colab": {
          "base_uri": "https://localhost:8080/"
        },
        "id": "wX4w6Cax8auG",
        "outputId": "d47caeef-564a-42fd-f9a5-65af56934775"
      },
      "outputs": [],
      "source": [
        "# a. Find no. of rows & columns in the dataset\n",
        "print(\"Number of rows and columns:\", df.shape)"
      ]
    },
    {
      "cell_type": "code",
      "execution_count": null,
      "metadata": {
        "colab": {
          "base_uri": "https://localhost:8080/"
        },
        "id": "nB7pXcM98eue",
        "outputId": "0d50df54-0dea-4b32-c6b1-6478291a9973"
      },
      "outputs": [],
      "source": [
        "# b. Data types of columns\n",
        "print(\"\\nData types of columns:\\n\", df.dtypes)"
      ]
    },
    {
      "cell_type": "code",
      "execution_count": null,
      "metadata": {
        "colab": {
          "base_uri": "https://localhost:8080/"
        },
        "id": "-ve8OpAW8gyV",
        "outputId": "926032b8-b2d5-4f2c-b4c6-3b6216991540"
      },
      "outputs": [],
      "source": [
        "# c. Info & describe of data in dataframe\n",
        "print(\"\\nDataframe Info:\\n\", df.info())\n",
        "print(\"\\nDataframe Describe:\\n\", df.describe())"
      ]
    },
    {
      "attachments": {},
      "cell_type": "markdown",
      "metadata": {
        "id": "E26xLee3-Vju"
      },
      "source": [
        "3. Low Level Data Understanding:"
      ]
    },
    {
      "cell_type": "code",
      "execution_count": null,
      "metadata": {
        "colab": {
          "base_uri": "https://localhost:8080/"
        },
        "id": "EQNe0Iky86dd",
        "outputId": "06e7a82f-9d6a-43e4-d50a-78b3ca3df0b2"
      },
      "outputs": [],
      "source": [
        "# a. Find count of unique values in location column\n",
        "print(\"\\nCount of unique values in 'location' column:\", df['location'].nunique())"
      ]
    },
    {
      "cell_type": "code",
      "execution_count": null,
      "metadata": {
        "colab": {
          "base_uri": "https://localhost:8080/"
        },
        "id": "c65A4OSM8-pE",
        "outputId": "e07f598a-6cf9-4e11-a641-e46f36ebd364"
      },
      "outputs": [],
      "source": [
        "# b. Find which continent has maximum frequency using value counts\n",
        "max_continent = df['continent'].value_counts().idxmax()\n",
        "print(\"\\nContinent with maximum frequency:\", max_continent)"
      ]
    },
    {
      "cell_type": "code",
      "execution_count": null,
      "metadata": {
        "colab": {
          "base_uri": "https://localhost:8080/"
        },
        "id": "91zNYMxu9BRM",
        "outputId": "cc3a21e7-167b-49bd-8186-64f566daffec"
      },
      "outputs": [],
      "source": [
        "# c. Find maximum & mean value in 'total_cases'\n",
        "max_total_cases = df['total_cases'].max()\n",
        "mean_total_cases = df['total_cases'].mean()\n",
        "print(\"\\nMaximum total cases:\", max_total_cases)\n",
        "print(\"Mean total cases:\", mean_total_cases)"
      ]
    },
    {
      "cell_type": "code",
      "execution_count": null,
      "metadata": {
        "colab": {
          "base_uri": "https://localhost:8080/"
        },
        "id": "SjnlapaP_KDq",
        "outputId": "1ce13202-883b-48b4-a00a-fdd93bcfc0f0"
      },
      "outputs": [],
      "source": [
        "# d. Find 25%, 50%, and 75% quartile value in 'total_deaths'\n",
        "quartiles_total_deaths = df['total_deaths'].quantile([0.25, 0.50, 0.75])\n",
        "print(\"\\nQuartile values for 'total_deaths':\\n\", quartiles_total_deaths)"
      ]
    },
    {
      "cell_type": "code",
      "execution_count": null,
      "metadata": {
        "colab": {
          "base_uri": "https://localhost:8080/"
        },
        "id": "8HfKj9lC9GqV",
        "outputId": "41b6fdf6-9511-49e6-8a75-883085ba2efb"
      },
      "outputs": [],
      "source": [
        "# e. Find which continent has maximum 'human_development_index'\n",
        "max_hdi_continent = df.loc[df['human_development_index'].idxmax()]['continent']\n",
        "print(\"\\nContinent with maximum 'human_development_index':\", max_hdi_continent)"
      ]
    },
    {
      "cell_type": "code",
      "execution_count": null,
      "metadata": {
        "colab": {
          "base_uri": "https://localhost:8080/"
        },
        "id": "odjSn9Ip9Il1",
        "outputId": "326b93c9-c15d-4ff8-f885-4f85acf2faba"
      },
      "outputs": [],
      "source": [
        "# f. Find which continent has minimum 'gdp_per_capita'\n",
        "min_gdp_continent = df.loc[df['gdp_per_capita'].idxmin()]['continent']\n",
        "print(\"Continent with minimum 'gdp_per_capita':\", min_gdp_continent)"
      ]
    },
    {
      "attachments": {},
      "cell_type": "markdown",
      "metadata": {
        "id": "rGK2Is-1-2we"
      },
      "source": [
        "4. Filter the dataframe with only this columns ['continent', 'location', 'date', 'total_cases', 'total_deaths', 'gdp_per_capita', 'human_development_index'] and update the data frame."
      ]
    },
    {
      "cell_type": "code",
      "execution_count": 22,
      "metadata": {
        "id": "xef0o8n96sP1"
      },
      "outputs": [],
      "source": [
        "selected_columns = ['continent', 'location', 'date', 'total_cases', 'total_deaths', 'gdp_per_capita', 'human_development_index']\n",
        "df_filtered = df[selected_columns]"
      ]
    },
    {
      "attachments": {},
      "cell_type": "markdown",
      "metadata": {
        "id": "J9rVH8IFATYg"
      },
      "source": [
        "5. Data Cleaning"
      ]
    },
    {
      "cell_type": "code",
      "execution_count": null,
      "metadata": {
        "colab": {
          "base_uri": "https://localhost:8080/"
        },
        "id": "J8AkeOsl6usk",
        "outputId": "d985ac8c-35b5-447f-9c8d-743a790b375b"
      },
      "outputs": [],
      "source": [
        "# a. Remove duplicates\n",
        "df_filtered = df_filtered.drop_duplicates()\n",
        "\n",
        "# b. Find missing values\n",
        "missing_values = df_filtered.isnull().sum()\n",
        "print(\"\\nMissing values in columns:\\n\", missing_values)\n",
        "\n",
        "# c. Remove observations with missing continent values\n",
        "df_filtered = df_filtered.dropna(subset=['continent'])\n",
        "\n",
        "# d. Fill missing values with 0\n",
        "df_filtered = df_filtered.fillna(0)"
      ]
    },
    {
      "attachments": {},
      "cell_type": "markdown",
      "metadata": {
        "id": "2i-P2B-oArul"
      },
      "source": [
        "6. Date time format"
      ]
    },
    {
      "cell_type": "code",
      "execution_count": 26,
      "metadata": {
        "id": "f5XSV7WU6xqN"
      },
      "outputs": [],
      "source": [
        "# a. Convert date column to datetime format\n",
        "df_filtered['date'] = pd.to_datetime(df_filtered['date'])\n",
        "\n",
        "# b. Create new column 'month'\n",
        "df_filtered['month'] = df_filtered['date'].dt.month"
      ]
    },
    {
      "attachments": {},
      "cell_type": "markdown",
      "metadata": {
        "id": "LJU3zzYFA9hV"
      },
      "source": [
        "7. Data Aggregation"
      ]
    },
    {
      "cell_type": "code",
      "execution_count": null,
      "metadata": {
        "colab": {
          "base_uri": "https://localhost:8080/"
        },
        "id": "aaguHQFSBzN1",
        "outputId": "1c92b4c2-e73b-472d-b2d2-130a52b1f04e"
      },
      "outputs": [],
      "source": [
        "# a. Find max value in all columns using groupby function on 'continent' column\n",
        "df_groupby = df.groupby('continent').max().reset_index()\n",
        "\n",
        "# b. Display the resulting dataframe 'df_groupby'\n",
        "print(\"\\nDataframe after aggregation:\\n\", df_groupby)"
      ]
    },
    {
      "attachments": {},
      "cell_type": "markdown",
      "metadata": {
        "id": "9pNGn5K2ClEZ"
      },
      "source": [
        "8. Feature Engineering"
      ]
    },
    {
      "cell_type": "code",
      "execution_count": 30,
      "metadata": {
        "id": "UhA99hei61t7"
      },
      "outputs": [],
      "source": [
        "# a. Create a new feature 'total_deaths_to_total_cases' by ratio of 'total_deaths' column to 'total_cases'\n",
        "df_groupby['total_deaths_to_total_cases'] = df_groupby['total_deaths'] / df_groupby['total_cases']"
      ]
    },
    {
      "attachments": {},
      "cell_type": "markdown",
      "metadata": {
        "id": "zK9EvC04Dm-i"
      },
      "source": [
        "9. Data Visualization"
      ]
    },
    {
      "cell_type": "code",
      "execution_count": null,
      "metadata": {
        "id": "H2lZa5F663dq"
      },
      "outputs": [],
      "source": [
        "# a. Perform Univariate analysis on 'gdp_per_capita' column by plotting histogram using seaborn dist plot.\n",
        "sns.distplot(df_groupby['gdp_per_capita'], kde=False)\n",
        "plt.title('Histogram of GDP per Capita')\n",
        "plt.show()"
      ]
    },
    {
      "cell_type": "code",
      "execution_count": null,
      "metadata": {
        "colab": {
          "base_uri": "https://localhost:8080/",
          "height": 472
        },
        "id": "BXA2ZKfUDhI-",
        "outputId": "57e743f2-986a-4364-8e29-d3109c197e67"
      },
      "outputs": [],
      "source": [
        "# b. Scatter plot of 'total_cases' & 'gdp_per_capita'\n",
        "sns.scatterplot(x='gdp_per_capita', y='total_cases', data=df_groupby)\n",
        "plt.title('Scatter Plot of Total Cases vs GDP per Capita')\n",
        "plt.show()"
      ]
    },
    {
      "cell_type": "code",
      "execution_count": null,
      "metadata": {
        "colab": {
          "base_uri": "https://localhost:8080/",
          "height": 763
        },
        "id": "E4UPajEyDtVi",
        "outputId": "f74ba278-4e7b-4af9-9c0e-18d5c56dfb5c"
      },
      "outputs": [],
      "source": [
        "# c. Pairplot on df_groupby dataset\n",
        "sns.pairplot(df_groupby)\n",
        "plt.suptitle('Pairplot of df_groupby Dataset')\n",
        "plt.show()"
      ]
    },
    {
      "cell_type": "code",
      "execution_count": null,
      "metadata": {
        "id": "EMIWyqHyDurC"
      },
      "outputs": [],
      "source": [
        "# d. Bar plot of 'continent' column with 'total_cases'\n",
        "sns.catplot(x='continent', y='total_cases', kind='bar', data=df_groupby)\n",
        "plt.title('Bar Plot of Total Cases by Continent')\n",
        "plt.show()"
      ]
    },
    {
      "attachments": {},
      "cell_type": "markdown",
      "metadata": {
        "id": "xfLqNyV4GjaL"
      },
      "source": [
        "10. Save the df_groupby dataframe in your local drive using pandas.to_csv         function ."
      ]
    },
    {
      "cell_type": "code",
      "execution_count": null,
      "metadata": {
        "id": "DHvRFkSv66Cb"
      },
      "outputs": [],
      "source": [
        "df_groupby.to_csv('df_groupby.csv', index=False)"
      ]
    }
  ],
  "metadata": {
    "colab": {
      "provenance": []
    },
    "kernelspec": {
      "display_name": "Python 3",
      "name": "python3"
    },
    "language_info": {
      "name": "python"
    }
  },
  "nbformat": 4,
  "nbformat_minor": 0
}
