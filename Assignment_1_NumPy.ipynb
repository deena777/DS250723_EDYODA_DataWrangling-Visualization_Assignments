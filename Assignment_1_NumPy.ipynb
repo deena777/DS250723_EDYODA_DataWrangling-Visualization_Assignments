{
  "nbformat": 4,
  "nbformat_minor": 0,
  "metadata": {
    "colab": {
      "provenance": []
    },
    "kernelspec": {
      "name": "python3",
      "display_name": "Python 3"
    },
    "language_info": {
      "name": "python"
    }
  },
  "cells": [
    {
      "cell_type": "markdown",
      "source": [
        "# 6 NumPy Coding Problems"
      ],
      "metadata": {
        "id": "vQptgh_ioVVU"
      }
    },
    {
      "cell_type": "markdown",
      "source": [
        "\n",
        "1. Create a null vector of size 10 but the fifth value which is 1."
      ],
      "metadata": {
        "id": "wEgJDb9soeuf"
      }
    },
    {
      "cell_type": "code",
      "execution_count": 1,
      "metadata": {
        "colab": {
          "base_uri": "https://localhost:8080/"
        },
        "id": "3sJJpVtEoKE4",
        "outputId": "b3242d5b-eaa2-492b-cc72-de51d2edf04a"
      },
      "outputs": [
        {
          "output_type": "stream",
          "name": "stdout",
          "text": [
            "[0. 0. 0. 0. 1. 0. 0. 0. 0. 0.]\n"
          ]
        }
      ],
      "source": [
        "import numpy as np\n",
        "\n",
        "null_vector = np.zeros(10)\n",
        "null_vector[4] = 1\n",
        "\n",
        "print(null_vector)\n"
      ]
    },
    {
      "cell_type": "markdown",
      "source": [
        "2. Create a vector with values ranging from 10 to 49."
      ],
      "metadata": {
        "id": "V7YyItOBo4Z1"
      }
    },
    {
      "cell_type": "code",
      "source": [
        "import numpy as np\n",
        "\n",
        "vector = np.arange(10, 50)\n",
        "\n",
        "print(vector)\n"
      ],
      "metadata": {
        "colab": {
          "base_uri": "https://localhost:8080/"
        },
        "id": "XS8lDz-6pBGk",
        "outputId": "14d661a5-6572-4911-ddfc-90f21a48ab17"
      },
      "execution_count": 2,
      "outputs": [
        {
          "output_type": "stream",
          "name": "stdout",
          "text": [
            "[10 11 12 13 14 15 16 17 18 19 20 21 22 23 24 25 26 27 28 29 30 31 32 33\n",
            " 34 35 36 37 38 39 40 41 42 43 44 45 46 47 48 49]\n"
          ]
        }
      ]
    },
    {
      "cell_type": "markdown",
      "source": [
        "3. Create a 3x3 matrix with values ranging from 0 to 8"
      ],
      "metadata": {
        "id": "h69IcbvopPZb"
      }
    },
    {
      "cell_type": "code",
      "source": [
        "import numpy as np\n",
        "\n",
        "matrix = np.arange(9).reshape(3, 3)\n",
        "\n",
        "print(matrix)\n"
      ],
      "metadata": {
        "colab": {
          "base_uri": "https://localhost:8080/"
        },
        "id": "EHOtig9vpZeG",
        "outputId": "acff573e-0682-4c74-b525-fe765168d39b"
      },
      "execution_count": 3,
      "outputs": [
        {
          "output_type": "stream",
          "name": "stdout",
          "text": [
            "[[0 1 2]\n",
            " [3 4 5]\n",
            " [6 7 8]]\n"
          ]
        }
      ]
    },
    {
      "cell_type": "markdown",
      "source": [
        "4. Find indices of non-zero elements from [1,2,0,0,4,0]"
      ],
      "metadata": {
        "id": "PnlI_1WfpfV2"
      }
    },
    {
      "cell_type": "code",
      "source": [
        "import numpy as np\n",
        "\n",
        "arr = np.array([1, 2, 0, 0, 4, 0])\n",
        "\n",
        "non_zero_indices = np.nonzero(arr)\n",
        "\n",
        "print(non_zero_indices)\n"
      ],
      "metadata": {
        "colab": {
          "base_uri": "https://localhost:8080/"
        },
        "id": "9uSrLTg9pjjM",
        "outputId": "55573a41-a270-4676-8d22-9643e98a58f0"
      },
      "execution_count": 4,
      "outputs": [
        {
          "output_type": "stream",
          "name": "stdout",
          "text": [
            "(array([0, 1, 4]),)\n"
          ]
        }
      ]
    },
    {
      "cell_type": "markdown",
      "source": [
        "5. Create a 10x10 array with random values and find the minimum and maximum values."
      ],
      "metadata": {
        "id": "sD3O0XKwprJb"
      }
    },
    {
      "cell_type": "code",
      "source": [
        "import numpy as np\n",
        "\n",
        "# Create a 10x10 array with random values\n",
        "random_array = np.random.random((10, 10))\n",
        "\n",
        "# Find the minimum and maximum values\n",
        "min_value = np.min(random_array)\n",
        "max_value = np.max(random_array)\n",
        "\n",
        "print(\"Random Array:\")\n",
        "print(random_array)\n",
        "print(\"Minimum Value:\", min_value)\n",
        "print(\"Maximum Value:\", max_value)\n"
      ],
      "metadata": {
        "colab": {
          "base_uri": "https://localhost:8080/"
        },
        "id": "U5ogsodWpuxM",
        "outputId": "da39e8fe-81f0-4e54-a496-4bef922e9fd4"
      },
      "execution_count": 6,
      "outputs": [
        {
          "output_type": "stream",
          "name": "stdout",
          "text": [
            "Random Array:\n",
            "[[0.74228647 0.14603548 0.81719551 0.01453686 0.12841256 0.72158787\n",
            "  0.69265148 0.30635494 0.53721441 0.91947395]\n",
            " [0.40358079 0.58923301 0.19392939 0.13040806 0.42533502 0.20934856\n",
            "  0.27592399 0.86886932 0.18280425 0.30433428]\n",
            " [0.74555562 0.68312422 0.45150401 0.95115704 0.4444851  0.80172539\n",
            "  0.13516716 0.75117934 0.07529138 0.73044097]\n",
            " [0.72049107 0.78900393 0.55353398 0.01644605 0.24694842 0.90103795\n",
            "  0.28098054 0.3321705  0.80171764 0.71994537]\n",
            " [0.77896302 0.43092746 0.0406672  0.96257847 0.07705764 0.01186808\n",
            "  0.12540523 0.52692461 0.7139664  0.78298968]\n",
            " [0.75528792 0.37369528 0.62230384 0.00495239 0.32482451 0.30624178\n",
            "  0.43002003 0.89901618 0.80066115 0.10019041]\n",
            " [0.27978036 0.51900949 0.09438877 0.86826049 0.90470889 0.62323801\n",
            "  0.9266748  0.49204406 0.33604503 0.07041631]\n",
            " [0.62715639 0.56429043 0.78154525 0.94522542 0.23793644 0.24293903\n",
            "  0.65407415 0.97559929 0.58983251 0.3453085 ]\n",
            " [0.91988873 0.93146078 0.6986921  0.57025204 0.81969814 0.27167333\n",
            "  0.25618577 0.74237838 0.72395678 0.96530231]\n",
            " [0.59263814 0.99354154 0.39105207 0.82341304 0.86340335 0.04984126\n",
            "  0.96358845 0.37501666 0.82430188 0.82970741]]\n",
            "Minimum Value: 0.004952394677338989\n",
            "Maximum Value: 0.9935415390004726\n"
          ]
        }
      ]
    },
    {
      "cell_type": "markdown",
      "source": [
        "6. Create a random vector of size 30 and find the mean value.\n"
      ],
      "metadata": {
        "id": "P4ZKJ_NJp61U"
      }
    },
    {
      "cell_type": "code",
      "source": [
        "import numpy as np\n",
        "\n",
        "# Create a random vector of size 30\n",
        "random_vector = np.random.random(30)\n",
        "\n",
        "# Find the mean value\n",
        "mean_value = np.mean(random_vector)\n",
        "\n",
        "print(\"Random Vector:\")\n",
        "print(random_vector)\n",
        "print(\"Mean Value:\", mean_value)\n"
      ],
      "metadata": {
        "colab": {
          "base_uri": "https://localhost:8080/"
        },
        "id": "hSDdKuz-p_Ba",
        "outputId": "93a9f36e-82ca-46fc-993f-3b06ff8341fc"
      },
      "execution_count": 7,
      "outputs": [
        {
          "output_type": "stream",
          "name": "stdout",
          "text": [
            "Random Vector:\n",
            "[0.9827949  0.89830293 0.96803925 0.57545623 0.34304873 0.78415818\n",
            " 0.33535838 0.62080052 0.10345154 0.43155748 0.88481341 0.72370226\n",
            " 0.74548105 0.11243929 0.11153981 0.41378426 0.14731533 0.74036008\n",
            " 0.22774493 0.99947021 0.13400559 0.50129968 0.95431873 0.93656636\n",
            " 0.60075302 0.53819418 0.99565783 0.28764715 0.85307528 0.03059259]\n",
            "Mean Value: 0.5660576393361345\n"
          ]
        }
      ]
    }
  ]
}