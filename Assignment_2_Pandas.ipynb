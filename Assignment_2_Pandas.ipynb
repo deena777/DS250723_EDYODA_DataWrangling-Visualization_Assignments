{
  "nbformat": 4,
  "nbformat_minor": 0,
  "metadata": {
    "colab": {
      "provenance": []
    },
    "kernelspec": {
      "name": "python3",
      "display_name": "Python 3"
    },
    "language_info": {
      "name": "python"
    }
  },
  "cells": [
    {
      "cell_type": "markdown",
      "source": [
        "Import the necessary libraries"
      ],
      "metadata": {
        "id": "0JK7pCe15D6h"
      }
    },
    {
      "cell_type": "code",
      "execution_count": 1,
      "metadata": {
        "id": "ZmpKRH9B5CtK"
      },
      "outputs": [],
      "source": [
        "import pandas as pd\n",
        "import numpy as np"
      ]
    },
    {
      "cell_type": "markdown",
      "source": [
        "Import the dataset from this(https://raw.githubusercontent.com/justmarkham/DAT8/master/data/u.user).\n",
        "\n"
      ],
      "metadata": {
        "id": "xoO28-Lq5HG2"
      }
    },
    {
      "cell_type": "code",
      "source": [
        "url = \"https://raw.githubusercontent.com/justmarkham/DAT8/master/data/u.user\"\n",
        "# df = pd.read_csv(url, sep=\"|\")"
      ],
      "metadata": {
        "id": "-zgc4xe95NdE"
      },
      "execution_count": 2,
      "outputs": []
    },
    {
      "cell_type": "markdown",
      "source": [
        "Use sep= \"|\" while reading the data\n",
        "\n",
        "Assign it to a variable called users"
      ],
      "metadata": {
        "id": "kDKN0cNABpVI"
      }
    },
    {
      "cell_type": "code",
      "source": [
        "users = pd.read_csv(url, sep=\"|\")"
      ],
      "metadata": {
        "id": "VFPNWE9v5xe9"
      },
      "execution_count": 3,
      "outputs": []
    },
    {
      "cell_type": "markdown",
      "source": [
        "Use the 'user_id' as index"
      ],
      "metadata": {
        "id": "BP1nNTKbBull"
      }
    },
    {
      "cell_type": "code",
      "source": [
        "users.set_index('user_id', inplace=True)"
      ],
      "metadata": {
        "id": "DOdyIqygBQuA"
      },
      "execution_count": 4,
      "outputs": []
    },
    {
      "cell_type": "markdown",
      "source": [
        "Display the entire dataframe"
      ],
      "metadata": {
        "id": "Uz88TOgsB4_-"
      }
    },
    {
      "cell_type": "code",
      "source": [
        "print(users)"
      ],
      "metadata": {
        "colab": {
          "base_uri": "https://localhost:8080/"
        },
        "id": "E7O9DoEZBeUg",
        "outputId": "af36ac72-0695-4f54-bd98-80dc4f875c99"
      },
      "execution_count": 6,
      "outputs": [
        {
          "output_type": "stream",
          "name": "stdout",
          "text": [
            "         age gender     occupation zip_code\n",
            "user_id                                    \n",
            "1         24      M     technician    85711\n",
            "2         53      F          other    94043\n",
            "3         23      M         writer    32067\n",
            "4         24      M     technician    43537\n",
            "5         33      F          other    15213\n",
            "...      ...    ...            ...      ...\n",
            "939       26      F        student    33319\n",
            "940       32      M  administrator    02215\n",
            "941       20      M        student    97229\n",
            "942       48      F      librarian    78209\n",
            "943       22      M        student    77841\n",
            "\n",
            "[943 rows x 4 columns]\n"
          ]
        }
      ]
    },
    {
      "cell_type": "markdown",
      "source": [
        "See the first 10 and last 10 entries"
      ],
      "metadata": {
        "id": "1KI4S-ksCpgp"
      }
    },
    {
      "cell_type": "code",
      "source": [
        "# Display the first 10 entries of the dataframe\n",
        "print(\"First 10 entries:\")\n",
        "print(users.head(10))"
      ],
      "metadata": {
        "colab": {
          "base_uri": "https://localhost:8080/"
        },
        "id": "0ELtXyCjCsrr",
        "outputId": "c3d8a1ed-094b-4bb7-a987-f06dbedb5edd"
      },
      "execution_count": 7,
      "outputs": [
        {
          "output_type": "stream",
          "name": "stdout",
          "text": [
            "First 10 entries:\n",
            "         age gender     occupation zip_code\n",
            "user_id                                    \n",
            "1         24      M     technician    85711\n",
            "2         53      F          other    94043\n",
            "3         23      M         writer    32067\n",
            "4         24      M     technician    43537\n",
            "5         33      F          other    15213\n",
            "6         42      M      executive    98101\n",
            "7         57      M  administrator    91344\n",
            "8         36      M  administrator    05201\n",
            "9         29      M        student    01002\n",
            "10        53      M         lawyer    90703\n"
          ]
        }
      ]
    },
    {
      "cell_type": "code",
      "source": [
        "# Display the last 10 entries of the dataframe\n",
        "print(\"\\nLast 10 entries:\")\n",
        "print(users.tail(10))"
      ],
      "metadata": {
        "colab": {
          "base_uri": "https://localhost:8080/"
        },
        "id": "pA0eZTtaCxQB",
        "outputId": "5f9cbb70-0457-4983-a85a-b59f749366d4"
      },
      "execution_count": 8,
      "outputs": [
        {
          "output_type": "stream",
          "name": "stdout",
          "text": [
            "\n",
            "Last 10 entries:\n",
            "         age gender     occupation zip_code\n",
            "user_id                                    \n",
            "934       61      M       engineer    22902\n",
            "935       42      M         doctor    66221\n",
            "936       24      M          other    32789\n",
            "937       48      M       educator    98072\n",
            "938       38      F     technician    55038\n",
            "939       26      F        student    33319\n",
            "940       32      M  administrator    02215\n",
            "941       20      M        student    97229\n",
            "942       48      F      librarian    78209\n",
            "943       22      M        student    77841\n"
          ]
        }
      ]
    },
    {
      "cell_type": "markdown",
      "source": [
        "What is the number of observations in the dataset?"
      ],
      "metadata": {
        "id": "_hV3bGMRDEDz"
      }
    },
    {
      "cell_type": "code",
      "source": [
        "num_observations = users.shape[0]\n",
        "print(\"Number of observations in the dataset:\", num_observations)"
      ],
      "metadata": {
        "colab": {
          "base_uri": "https://localhost:8080/"
        },
        "id": "X-dpSwvtDDQz",
        "outputId": "43a4cb95-5969-4409-c65f-f13aa84fb91f"
      },
      "execution_count": 10,
      "outputs": [
        {
          "output_type": "stream",
          "name": "stdout",
          "text": [
            "Number of observations in the dataset: 943\n"
          ]
        }
      ]
    },
    {
      "cell_type": "markdown",
      "source": [
        "What is the number of columns in the dataset?"
      ],
      "metadata": {
        "id": "SgNC9kN8DSZz"
      }
    },
    {
      "cell_type": "code",
      "source": [
        "num_columns = users.shape[1]\n",
        "print(\"Number of columns in the dataset:\", num_columns)"
      ],
      "metadata": {
        "colab": {
          "base_uri": "https://localhost:8080/"
        },
        "id": "QFYYU1FBDR4z",
        "outputId": "803c2d76-479d-4c37-f420-347a06c02323"
      },
      "execution_count": 11,
      "outputs": [
        {
          "output_type": "stream",
          "name": "stdout",
          "text": [
            "Number of columns in the dataset: 4\n"
          ]
        }
      ]
    },
    {
      "cell_type": "markdown",
      "source": [
        "Print the name of all the columns."
      ],
      "metadata": {
        "id": "cwcMd1AlDbrE"
      }
    },
    {
      "cell_type": "code",
      "source": [
        "column_names = users.columns\n",
        "print(\"Index\", column_names)"
      ],
      "metadata": {
        "colab": {
          "base_uri": "https://localhost:8080/"
        },
        "id": "dGuaO-vjDcas",
        "outputId": "790c1f75-9be0-47ee-9772-543da535f05b"
      },
      "execution_count": 13,
      "outputs": [
        {
          "output_type": "stream",
          "name": "stdout",
          "text": [
            "Index Index(['age', 'gender', 'occupation', 'zip_code'], dtype='object')\n"
          ]
        }
      ]
    },
    {
      "cell_type": "markdown",
      "source": [
        "How is the dataset indexed?"
      ],
      "metadata": {
        "id": "doU79TgBD8l1"
      }
    },
    {
      "cell_type": "code",
      "source": [
        "print(users.index)"
      ],
      "metadata": {
        "colab": {
          "base_uri": "https://localhost:8080/"
        },
        "id": "HsYEb7SPD9BT",
        "outputId": "8d189d84-caf5-4653-fbf8-9c61a5f334e0"
      },
      "execution_count": 14,
      "outputs": [
        {
          "output_type": "stream",
          "name": "stdout",
          "text": [
            "Int64Index([  1,   2,   3,   4,   5,   6,   7,   8,   9,  10,\n",
            "            ...\n",
            "            934, 935, 936, 937, 938, 939, 940, 941, 942, 943],\n",
            "           dtype='int64', name='user_id', length=943)\n"
          ]
        }
      ]
    },
    {
      "cell_type": "markdown",
      "source": [
        "What is the data type of each column?"
      ],
      "metadata": {
        "id": "0sf_YmfXEHaV"
      }
    },
    {
      "cell_type": "code",
      "source": [
        "users.info()"
      ],
      "metadata": {
        "colab": {
          "base_uri": "https://localhost:8080/"
        },
        "id": "OmZ5WpPKEIJM",
        "outputId": "b3736e79-46c0-439a-a00b-c58ffe2540b1"
      },
      "execution_count": 18,
      "outputs": [
        {
          "output_type": "stream",
          "name": "stdout",
          "text": [
            "<class 'pandas.core.frame.DataFrame'>\n",
            "Int64Index: 943 entries, 1 to 943\n",
            "Data columns (total 4 columns):\n",
            " #   Column      Non-Null Count  Dtype \n",
            "---  ------      --------------  ----- \n",
            " 0   age         943 non-null    int64 \n",
            " 1   gender      943 non-null    object\n",
            " 2   occupation  943 non-null    object\n",
            " 3   zip_code    943 non-null    object\n",
            "dtypes: int64(1), object(3)\n",
            "memory usage: 36.8+ KB\n"
          ]
        }
      ]
    },
    {
      "cell_type": "markdown",
      "source": [
        "Print only the occupation column"
      ],
      "metadata": {
        "id": "-Alv2j0PEqI4"
      }
    },
    {
      "cell_type": "code",
      "source": [
        "print(users['occupation'])"
      ],
      "metadata": {
        "colab": {
          "base_uri": "https://localhost:8080/"
        },
        "id": "7ihusfLQEuHN",
        "outputId": "6fb7dd9b-fe43-49c2-cabb-3c3cf847c840"
      },
      "execution_count": 19,
      "outputs": [
        {
          "output_type": "stream",
          "name": "stdout",
          "text": [
            "user_id\n",
            "1         technician\n",
            "2              other\n",
            "3             writer\n",
            "4         technician\n",
            "5              other\n",
            "           ...      \n",
            "939          student\n",
            "940    administrator\n",
            "941          student\n",
            "942        librarian\n",
            "943          student\n",
            "Name: occupation, Length: 943, dtype: object\n"
          ]
        }
      ]
    },
    {
      "cell_type": "markdown",
      "source": [
        "How many different occupations are in this dataset?"
      ],
      "metadata": {
        "id": "d2S7RoafE9ht"
      }
    },
    {
      "cell_type": "code",
      "source": [
        "num_occupations = users['occupation'].nunique()\n",
        "print(\"Number of different occupations:\", num_occupations)"
      ],
      "metadata": {
        "colab": {
          "base_uri": "https://localhost:8080/"
        },
        "id": "haJmskinE-dL",
        "outputId": "125c5ddc-99ae-42b4-cf53-48365cafbdbb"
      },
      "execution_count": 22,
      "outputs": [
        {
          "output_type": "stream",
          "name": "stdout",
          "text": [
            "Number of different occupations: 21\n"
          ]
        }
      ]
    },
    {
      "cell_type": "markdown",
      "source": [
        "What is the most frequent occupation?"
      ],
      "metadata": {
        "id": "V0LDqyi9FPmw"
      }
    },
    {
      "cell_type": "code",
      "source": [
        "most_frequent_occupation = users['occupation'].value_counts().idxmax()\n",
        "print(\"Most frequent occupation:\", most_frequent_occupation)"
      ],
      "metadata": {
        "colab": {
          "base_uri": "https://localhost:8080/"
        },
        "id": "vbXmI_8oF7B3",
        "outputId": "0e0254f8-cf3b-4df4-be16-c5bafe6eec58"
      },
      "execution_count": 23,
      "outputs": [
        {
          "output_type": "stream",
          "name": "stdout",
          "text": [
            "Most frequent occupation: student\n"
          ]
        }
      ]
    },
    {
      "cell_type": "markdown",
      "source": [
        "DataFrame Info."
      ],
      "metadata": {
        "id": "_FtNUB9fGNVa"
      }
    },
    {
      "cell_type": "code",
      "source": [
        "print(users.info())"
      ],
      "metadata": {
        "colab": {
          "base_uri": "https://localhost:8080/"
        },
        "id": "KGutXCu5GQIS",
        "outputId": "9858d4c3-68ef-4ff8-9dfd-117f5fa0d1dc"
      },
      "execution_count": 24,
      "outputs": [
        {
          "output_type": "stream",
          "name": "stdout",
          "text": [
            "<class 'pandas.core.frame.DataFrame'>\n",
            "Int64Index: 943 entries, 1 to 943\n",
            "Data columns (total 4 columns):\n",
            " #   Column      Non-Null Count  Dtype \n",
            "---  ------      --------------  ----- \n",
            " 0   age         943 non-null    int64 \n",
            " 1   gender      943 non-null    object\n",
            " 2   occupation  943 non-null    object\n",
            " 3   zip_code    943 non-null    object\n",
            "dtypes: int64(1), object(3)\n",
            "memory usage: 36.8+ KB\n",
            "None\n"
          ]
        }
      ]
    },
    {
      "cell_type": "markdown",
      "source": [
        "Describe all the columns"
      ],
      "metadata": {
        "id": "HYmb65LhGhrg"
      }
    },
    {
      "cell_type": "code",
      "source": [
        "description_all = users.describe(include='all')\n",
        "print(description_all)"
      ],
      "metadata": {
        "colab": {
          "base_uri": "https://localhost:8080/"
        },
        "id": "LOH_yYcFGieP",
        "outputId": "b11c123e-7498-4ae1-cf64-e1593da07fe9"
      },
      "execution_count": 25,
      "outputs": [
        {
          "output_type": "stream",
          "name": "stdout",
          "text": [
            "               age gender occupation zip_code\n",
            "count   943.000000    943        943      943\n",
            "unique         NaN      2         21      795\n",
            "top            NaN      M    student    55414\n",
            "freq           NaN    670        196        9\n",
            "mean     34.051962    NaN        NaN      NaN\n",
            "std      12.192740    NaN        NaN      NaN\n",
            "min       7.000000    NaN        NaN      NaN\n",
            "25%      25.000000    NaN        NaN      NaN\n",
            "50%      31.000000    NaN        NaN      NaN\n",
            "75%      43.000000    NaN        NaN      NaN\n",
            "max      73.000000    NaN        NaN      NaN\n"
          ]
        }
      ]
    },
    {
      "cell_type": "markdown",
      "source": [
        "Summarize only the occupation column"
      ],
      "metadata": {
        "id": "c43GXk8oG5OH"
      }
    },
    {
      "cell_type": "code",
      "source": [
        "occupation_summary = users['occupation'].value_counts()\n",
        "print(occupation_summary)"
      ],
      "metadata": {
        "colab": {
          "base_uri": "https://localhost:8080/"
        },
        "id": "tP8PrkkqG2mH",
        "outputId": "0c37a11b-c407-4dd0-c683-bb849a4365b8"
      },
      "execution_count": 26,
      "outputs": [
        {
          "output_type": "stream",
          "name": "stdout",
          "text": [
            "student          196\n",
            "other            105\n",
            "educator          95\n",
            "administrator     79\n",
            "engineer          67\n",
            "programmer        66\n",
            "librarian         51\n",
            "writer            45\n",
            "executive         32\n",
            "scientist         31\n",
            "artist            28\n",
            "technician        27\n",
            "marketing         26\n",
            "entertainment     18\n",
            "healthcare        16\n",
            "retired           14\n",
            "lawyer            12\n",
            "salesman          12\n",
            "none               9\n",
            "homemaker          7\n",
            "doctor             7\n",
            "Name: occupation, dtype: int64\n"
          ]
        }
      ]
    },
    {
      "cell_type": "markdown",
      "source": [
        "What is the mean age of users?"
      ],
      "metadata": {
        "id": "CVuBNjPLG8WP"
      }
    },
    {
      "cell_type": "code",
      "source": [
        "mean_age = users['age'].mean()\n",
        "print(\"Mean age of users:\", mean_age)"
      ],
      "metadata": {
        "colab": {
          "base_uri": "https://localhost:8080/"
        },
        "id": "7b3cDXkyG8vP",
        "outputId": "88846aec-7cea-41de-921f-4eb51ba331f0"
      },
      "execution_count": 27,
      "outputs": [
        {
          "output_type": "stream",
          "name": "stdout",
          "text": [
            "Mean age of users: 34.05196182396607\n"
          ]
        }
      ]
    },
    {
      "cell_type": "markdown",
      "source": [
        "What is the age with least occurrence?"
      ],
      "metadata": {
        "id": "EJTr8tY2HV2i"
      }
    },
    {
      "cell_type": "code",
      "source": [
        "least_occurrence_age = users['age'].value_counts().idxmin()\n",
        "print(\"Age with least occurrence:\", least_occurrence_age)"
      ],
      "metadata": {
        "colab": {
          "base_uri": "https://localhost:8080/"
        },
        "id": "79jU4k3xHWrK",
        "outputId": "c3eb50ef-bd16-4cb7-d100-de4e046e0253"
      },
      "execution_count": 28,
      "outputs": [
        {
          "output_type": "stream",
          "name": "stdout",
          "text": [
            "Age with least occurrence: 7\n"
          ]
        }
      ]
    }
  ]
}